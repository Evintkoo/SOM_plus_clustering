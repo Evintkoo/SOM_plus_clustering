{
 "cells": [
  {
   "cell_type": "code",
   "execution_count": 20,
   "metadata": {},
   "outputs": [],
   "source": [
    "import pandas as pd\n",
    "import numpy as np"
   ]
  },
  {
   "cell_type": "code",
   "execution_count": 21,
   "metadata": {},
   "outputs": [],
   "source": [
    "X = pd.read_csv(\"./data.csv\", header=None).iloc[:, :-1].values"
   ]
  },
  {
   "cell_type": "code",
   "execution_count": 22,
   "metadata": {},
   "outputs": [],
   "source": [
    "def gaussian_kernel(x):\n",
    "    d = x.shape[0]\n",
    "    return (1 / (2 * np.pi) ** (d / 2)) * np.exp(-0.5 * np.dot(x, x))\n",
    "\n",
    "def multivariate_kde(X, H):\n",
    "    n, d = X.shape\n",
    "    Hinv = np.linalg.inv(H)\n",
    "    Hdet = np.linalg.det(H)\n",
    "    \n",
    "    def kde(x):\n",
    "        x = np.asarray(x)\n",
    "        if x.ndim == 1:\n",
    "            x = x.reshape(1, -1)\n",
    "        \n",
    "        N = x.shape[0]\n",
    "        result = np.zeros(N)\n",
    "        \n",
    "        for i in range(N):\n",
    "            diff = x[i] - X\n",
    "            tdiff = np.dot(diff, Hinv)\n",
    "            energy = np.sum(diff * tdiff, axis=1)\n",
    "            result[i] = np.sum(np.exp(-0.5 * energy))\n",
    "        \n",
    "        result /= (n * Hdet ** 0.5)\n",
    "        return result[0]\n",
    "    \n",
    "    return kde"
   ]
  },
  {
   "cell_type": "code",
   "execution_count": 23,
   "metadata": {},
   "outputs": [],
   "source": [
    "def scotts_rule(X):\n",
    "    n, d = X.shape\n",
    "    sigma = np.std(X, axis=0)\n",
    "    h = n ** (-1 / (d + 4)) * sigma\n",
    "    return np.diag(h)"
   ]
  },
  {
   "cell_type": "code",
   "execution_count": 24,
   "metadata": {},
   "outputs": [],
   "source": [
    "def numerical_gradient(f, x, h=1e-5):\n",
    "    grad = np.zeros_like(x)\n",
    "    for i in range(len(x)):\n",
    "        x_plus = x.copy()\n",
    "        x_plus[i] += h\n",
    "        x_minus = x.copy()\n",
    "        x_minus[i] -= h\n",
    "        grad[i] = (f(x_plus) - f(x_minus)) / (2 * h)\n",
    "    return grad\n",
    "\n",
    "def find_local_maxima(kde, X, num_restarts=10, max_iter=100, tol=1e-1, step_size=0.1):\n",
    "    n, d = X.shape\n",
    "    local_maxima = []\n",
    "    \n",
    "    for _ in range(num_restarts):\n",
    "        x = X[np.random.choice(n)]\n",
    "        for _ in range(max_iter):\n",
    "            grad = numerical_gradient(kde, x)\n",
    "            x_new = x + step_size * grad\n",
    "            if np.linalg.norm(x_new - x) < tol:\n",
    "                break\n",
    "            x = x_new\n",
    "        local_maxima.append(x)\n",
    "    \n",
    "    return np.unique(np.array(local_maxima).round(decimals=-int(np.log10(tol))), axis=0)"
   ]
  },
  {
   "cell_type": "code",
   "execution_count": 42,
   "metadata": {},
   "outputs": [
    {
     "data": {
      "text/plain": [
       "array([[4.9, 2.5, 4.5, 1.7],\n",
       "       [5. , 2. , 3.5, 1. ],\n",
       "       [5.4, 3.7, 1.5, 0.2],\n",
       "       [5.4, 3.8, 1.3, 0.4],\n",
       "       [6. , 3. , 4.8, 1.7],\n",
       "       [6.3, 2.9, 5.6, 1.8],\n",
       "       [6.3, 3.1, 5.4, 2.1],\n",
       "       [6.4, 2.8, 5.6, 2.1],\n",
       "       [6.7, 3.3, 5.7, 2.5],\n",
       "       [7.3, 2.9, 6.3, 1.8]])"
      ]
     },
     "execution_count": 42,
     "metadata": {},
     "output_type": "execute_result"
    }
   ],
   "source": [
    "kde = multivariate_kde(X, scotts_rule(X))\n",
    "local_max = find_local_maxima(kde, X)\n",
    "local_max"
   ]
  },
  {
   "cell_type": "code",
   "execution_count": 26,
   "metadata": {},
   "outputs": [
    {
     "data": {
      "text/plain": [
       "array([[6.6, 3. , 4.7, 1.5],\n",
       "       [5.5, 2.4, 3.7, 1. ],\n",
       "       [5.5, 2.4, 3.8, 1.1],\n",
       "       [5.2, 3.4, 1.4, 0.2]])"
      ]
     },
     "execution_count": 26,
     "metadata": {},
     "output_type": "execute_result"
    }
   ],
   "source": [
    "local_max[np.random.choice(len(local_max), size=4, replace=False)]"
   ]
  },
  {
   "cell_type": "markdown",
   "metadata": {},
   "source": [
    "# Testing"
   ]
  },
  {
   "cell_type": "code",
   "execution_count": 44,
   "metadata": {},
   "outputs": [],
   "source": [
    "from kde_kernel import initiate_kde\n",
    "import pandas as pd\n",
    "import numpy as np"
   ]
  },
  {
   "cell_type": "code",
   "execution_count": 73,
   "metadata": {},
   "outputs": [
    {
     "data": {
      "text/plain": [
       "array([[5.1, 2.4, 1.5, 0.2],\n",
       "       [5.5, 2.5, 3.8, 1.1],\n",
       "       [6.7, 3.4, 5.8, 1.8]])"
      ]
     },
     "execution_count": 73,
     "metadata": {},
     "output_type": "execute_result"
    }
   ],
   "source": [
    "X = pd.read_csv(\"./data.csv\", header=None).iloc[:, :-1].values\n",
    "np.sort(initiate_kde(X,3), axis=0)"
   ]
  },
  {
   "cell_type": "code",
   "execution_count": null,
   "metadata": {},
   "outputs": [],
   "source": []
  }
 ],
 "metadata": {
  "kernelspec": {
   "display_name": "venv",
   "language": "python",
   "name": "python3"
  },
  "language_info": {
   "codemirror_mode": {
    "name": "ipython",
    "version": 3
   },
   "file_extension": ".py",
   "mimetype": "text/x-python",
   "name": "python",
   "nbconvert_exporter": "python",
   "pygments_lexer": "ipython3",
   "version": "3.8.10"
  }
 },
 "nbformat": 4,
 "nbformat_minor": 2
}
