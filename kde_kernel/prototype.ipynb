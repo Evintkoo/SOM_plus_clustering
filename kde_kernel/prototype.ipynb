{
 "cells": [
  {
   "cell_type": "code",
   "execution_count": 4,
   "metadata": {},
   "outputs": [],
   "source": [
    "import pandas as pd\n",
    "import numpy as np"
   ]
  },
  {
   "cell_type": "code",
   "execution_count": 5,
   "metadata": {},
   "outputs": [],
   "source": [
    "X = pd.read_csv(\"./data.csv\", header=None).iloc[:, :-1].values"
   ]
  },
  {
   "cell_type": "code",
   "execution_count": 6,
   "metadata": {},
   "outputs": [],
   "source": [
    "def gaussian_kernel(x):\n",
    "    d = x.shape[0]\n",
    "    return (1 / (2 * np.pi) ** (d / 2)) * np.exp(-0.5 * np.dot(x, x))\n",
    "\n",
    "def multivariate_kde(X, H):\n",
    "    n, d = X.shape\n",
    "    Hinv = np.linalg.inv(H)\n",
    "    Hdet = np.linalg.det(H)\n",
    "    \n",
    "    def kde(x):\n",
    "        x = np.asarray(x)\n",
    "        if x.ndim == 1:\n",
    "            x = x.reshape(1, -1)\n",
    "        \n",
    "        N = x.shape[0]\n",
    "        result = np.zeros(N)\n",
    "        \n",
    "        for i in range(N):\n",
    "            diff = x[i] - X\n",
    "            tdiff = np.dot(diff, Hinv)\n",
    "            energy = np.sum(diff * tdiff, axis=1)\n",
    "            result[i] = np.sum(np.exp(-0.5 * energy))\n",
    "        \n",
    "        result /= (n * Hdet ** 0.5)\n",
    "        return result[0]\n",
    "    \n",
    "    return kde"
   ]
  },
  {
   "cell_type": "code",
   "execution_count": 7,
   "metadata": {},
   "outputs": [],
   "source": [
    "def scotts_rule(X):\n",
    "    n, d = X.shape\n",
    "    sigma = np.std(X, axis=0)\n",
    "    h = n ** (-1 / (d + 4)) * sigma\n",
    "    return np.diag(h)"
   ]
  },
  {
   "cell_type": "code",
   "execution_count": 8,
   "metadata": {},
   "outputs": [],
   "source": [
    "def numerical_gradient(f, x, h=1e-5):\n",
    "    grad = np.zeros_like(x)\n",
    "    for i in range(len(x)):\n",
    "        x_plus = x.copy()\n",
    "        x_plus[i] += h\n",
    "        x_minus = x.copy()\n",
    "        x_minus[i] -= h\n",
    "        grad[i] = (f(x_plus) - f(x_minus)) / (2 * h)\n",
    "    return grad\n",
    "\n",
    "def find_local_maxima(kde, X, num_restarts=10, max_iter=100, tol=1e-1, step_size=0.1):\n",
    "    n, d = X.shape\n",
    "    local_maxima = []\n",
    "    \n",
    "    for _ in range(num_restarts):\n",
    "        x = X[np.random.choice(n)]\n",
    "        for _ in range(max_iter):\n",
    "            grad = numerical_gradient(kde, x)\n",
    "            x_new = x + step_size * grad\n",
    "            if np.linalg.norm(x_new - x) < tol:\n",
    "                break\n",
    "            x = x_new\n",
    "        local_maxima.append(x)\n",
    "    \n",
    "    return np.unique(np.array(local_maxima).round(decimals=-int(np.log10(tol))), axis=0)"
   ]
  },
  {
   "cell_type": "code",
   "execution_count": 9,
   "metadata": {},
   "outputs": [
    {
     "data": {
      "text/plain": [
       "array([[4.7, 3.2, 1.3, 0.2],\n",
       "       [4.8, 3.4, 1.6, 0.2],\n",
       "       [5.1, 3.7, 1.6, 0.2],\n",
       "       [5.5, 2.5, 4. , 1.3],\n",
       "       [5.6, 2.9, 3.6, 1.3],\n",
       "       [5.7, 2.6, 3.5, 1. ],\n",
       "       [6. , 2.9, 4.5, 1.5],\n",
       "       [6.3, 3. , 4.6, 1.6],\n",
       "       [6.9, 3.1, 5.4, 2.1],\n",
       "       [7.3, 2.9, 6.3, 1.8]])"
      ]
     },
     "execution_count": 9,
     "metadata": {},
     "output_type": "execute_result"
    }
   ],
   "source": [
    "kde = multivariate_kde(X, scotts_rule(X))\n",
    "local_max = find_local_maxima(kde, X)\n",
    "local_max"
   ]
  },
  {
   "cell_type": "code",
   "execution_count": 12,
   "metadata": {},
   "outputs": [
    {
     "data": {
      "text/plain": [
       "array([[5.5, 2.5, 4. , 1.3],\n",
       "       [6.9, 3.1, 5.4, 2.1],\n",
       "       [5.7, 2.6, 3.5, 1. ],\n",
       "       [7.3, 2.9, 6.3, 1.8]])"
      ]
     },
     "execution_count": 12,
     "metadata": {},
     "output_type": "execute_result"
    }
   ],
   "source": [
    "local_max[np.random.choice(len(local_max), size=4, replace=False)]"
   ]
  },
  {
   "cell_type": "markdown",
   "metadata": {},
   "source": [
    "# Testing"
   ]
  },
  {
   "cell_type": "code",
   "execution_count": 1,
   "metadata": {},
   "outputs": [],
   "source": [
    "from kde_kernel import initiate_kde\n",
    "import pandas as pd\n",
    "import numpy as np"
   ]
  },
  {
   "cell_type": "code",
   "execution_count": 2,
   "metadata": {},
   "outputs": [
    {
     "data": {
      "text/plain": [
       "array([[6.14, 2.87, 4.69, 1.59],\n",
       "       [6.24, 2.9 , 4.93, 1.68],\n",
       "       [6.14, 2.87, 4.7 , 1.59],\n",
       "       [6.15, 2.87, 4.81, 1.63]])"
      ]
     },
     "execution_count": 2,
     "metadata": {},
     "output_type": "execute_result"
    }
   ],
   "source": [
    "X = pd.read_csv(\"./data.csv\", header=None).iloc[:, :-1].values\n",
    "initiate_kde(X,4)"
   ]
  }
 ],
 "metadata": {
  "kernelspec": {
   "display_name": "venv",
   "language": "python",
   "name": "python3"
  },
  "language_info": {
   "codemirror_mode": {
    "name": "ipython",
    "version": 3
   },
   "file_extension": ".py",
   "mimetype": "text/x-python",
   "name": "python",
   "nbconvert_exporter": "python",
   "pygments_lexer": "ipython3",
   "version": "3.8.10"
  }
 },
 "nbformat": 4,
 "nbformat_minor": 2
}
